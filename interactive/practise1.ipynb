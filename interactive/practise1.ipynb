{
 "cells": [
  {
   "cell_type": "markdown",
   "id": "da5ecf30-fe28-4be0-b970-5ab4ba20a92e",
   "metadata": {},
   "source": [
    "### Практическое задание 1\n",
    "\n",
    "Используя рекомендации к заданию ([practise1.png](../pictures/practise1.png)), необходимо:<br>\n",
    "- вывести содержимое основной и вложенных директорий, используя метод os.walk.\n",
    "- вывести содержимое основной и вложенных директорий, используя метод glob.\n",
    "- вывести список файлов TXT и отдельно список файлов log с указанием относительного пути к файлам, начиная с имени главной директории."
   ]
  },
  {
   "cell_type": "code",
   "execution_count": 1,
   "id": "1dabf553-2c9d-49bd-aa58-ea17a0390a2c",
   "metadata": {},
   "outputs": [],
   "source": [
    "import os\n",
    "import shutil\n",
    "import string\n",
    "from pathlib import Path"
   ]
  },
  {
   "cell_type": "markdown",
   "id": "072eee1e-6f8c-40df-9dfa-6121bb611aa6",
   "metadata": {},
   "source": [
    "Загружаем исполняемый файл **sources/practise1.py** для создания тестовой структуры директорий и файлов."
   ]
  },
  {
   "cell_type": "code",
   "execution_count": 8,
   "id": "a3d1ff43-029f-419b-898f-e6f767dac5c8",
   "metadata": {},
   "outputs": [],
   "source": [
    "%load ../sources/practise1.py"
   ]
  },
  {
   "cell_type": "code",
   "execution_count": null,
   "id": "410cf94a-ff0a-4f56-ab45-5c2067713fd4",
   "metadata": {},
   "outputs": [],
   "source": [
    "root_dir = './main'\n",
    "\n",
    "if not os.path.exists(root_dir):\n",
    "    raise Exception(\"Test's folders tree does not exists! Run script practise1.py...\")\n"
   ]
  },
  {
   "cell_type": "code",
   "execution_count": 10,
   "id": "3df9fcff-60cc-4d64-a1ff-6255ce43da76",
   "metadata": {},
   "outputs": [
    {
     "name": "stdout",
     "output_type": "stream",
     "text": [
      "./main\n",
      "./main\\file_1.log\n",
      "./main\\file_1.txt\n",
      "./main\\file_2.log\n",
      "./main\\file_2.txt\n",
      "./main\\file_3.log\n",
      "./main\\file_3.txt\n",
      "./main\\file_4.log\n",
      "./main\\file_4.txt\n",
      "./main\\folder_1\n",
      "./main\\folder_1\\file_1.log\n",
      "./main\\folder_1\\file_1.txt\n",
      "./main\\folder_1\\file_2.log\n",
      "./main\\folder_1\\file_2.txt\n",
      "./main\\folder_1\\file_3.log\n",
      "./main\\folder_1\\file_3.txt\n",
      "./main\\folder_1\\file_4.log\n",
      "./main\\folder_1\\file_4.txt\n",
      "./main\\folder_2\n",
      "./main\\folder_2\\file_1.log\n",
      "./main\\folder_2\\file_1.txt\n",
      "./main\\folder_2\\file_2.log\n",
      "./main\\folder_2\\file_2.txt\n",
      "./main\\folder_2\\file_3.log\n",
      "./main\\folder_2\\file_3.txt\n",
      "./main\\folder_2\\file_4.log\n",
      "./main\\folder_2\\file_4.txt\n",
      "./main\\folder_3\n",
      "./main\\folder_3\\file_1.log\n",
      "./main\\folder_3\\file_1.txt\n",
      "./main\\folder_3\\file_2.log\n",
      "./main\\folder_3\\file_2.txt\n",
      "./main\\folder_3\\file_3.log\n",
      "./main\\folder_3\\file_3.txt\n",
      "./main\\folder_3\\file_4.log\n",
      "./main\\folder_3\\file_4.txt\n"
     ]
    }
   ],
   "source": [
    "# выводим содержимое основной и вложенных директорий, используя метод os.walk.\n",
    "tree = list()\n",
    "for root, _, files in os.walk(root_dir):\n",
    "    tree.append(root)\n",
    "    for file in files:\n",
    "        tree.append(os.path.join(root, file))\n",
    "\n",
    "for elem in tree:\n",
    "    print(elem)"
   ]
  },
  {
   "cell_type": "code",
   "execution_count": 11,
   "id": "06df5e6f-4184-493a-81d3-98ebf3fde056",
   "metadata": {},
   "outputs": [
    {
     "name": "stdout",
     "output_type": "stream",
     "text": [
      "main\\file_1.log\n",
      "main\\file_1.txt\n",
      "main\\file_2.log\n",
      "main\\file_2.txt\n",
      "main\\file_3.log\n",
      "main\\file_3.txt\n",
      "main\\file_4.log\n",
      "main\\file_4.txt\n",
      "main\\folder_1\\file_1.log\n",
      "main\\folder_1\\file_1.txt\n",
      "main\\folder_1\\file_2.log\n",
      "main\\folder_1\\file_2.txt\n",
      "main\\folder_1\\file_3.log\n",
      "main\\folder_1\\file_3.txt\n",
      "main\\folder_1\\file_4.log\n",
      "main\\folder_1\\file_4.txt\n",
      "main\\folder_2\\file_1.log\n",
      "main\\folder_2\\file_1.txt\n",
      "main\\folder_2\\file_2.log\n",
      "main\\folder_2\\file_2.txt\n",
      "main\\folder_2\\file_3.log\n",
      "main\\folder_2\\file_3.txt\n",
      "main\\folder_2\\file_4.log\n",
      "main\\folder_2\\file_4.txt\n",
      "main\\folder_3\\file_1.log\n",
      "main\\folder_3\\file_1.txt\n",
      "main\\folder_3\\file_2.log\n",
      "main\\folder_3\\file_2.txt\n",
      "main\\folder_3\\file_3.log\n",
      "main\\folder_3\\file_3.txt\n",
      "main\\folder_3\\file_4.log\n",
      "main\\folder_3\\file_4.txt\n"
     ]
    }
   ],
   "source": [
    "# выводим содержимое основной и вложенных директорий, используя метод glob.\n",
    "for f in Path(root_dir).glob('**/*'):\n",
    "    if f.is_file():\n",
    "        print(f)"
   ]
  },
  {
   "cell_type": "code",
   "execution_count": 12,
   "id": "37a35a91-2850-4837-b8c3-308b2a966732",
   "metadata": {},
   "outputs": [
    {
     "name": "stdout",
     "output_type": "stream",
     "text": [
      "./main \n",
      "------\n",
      "file_1.txt\n",
      "file_2.txt\n",
      "file_3.txt\n",
      "file_4.txt\n",
      "folder_1\\file_1.txt\n",
      "folder_1\\file_2.txt\n",
      "folder_1\\file_3.txt\n",
      "folder_1\\file_4.txt\n",
      "folder_2\\file_1.txt\n",
      "folder_2\\file_2.txt\n",
      "folder_2\\file_3.txt\n",
      "folder_2\\file_4.txt\n",
      "folder_3\\file_1.txt\n",
      "folder_3\\file_2.txt\n",
      "folder_3\\file_3.txt\n",
      "folder_3\\file_4.txt\n",
      "-------------------\n",
      "./main \n",
      "------\n",
      "file_1.log\n",
      "file_2.log\n",
      "file_3.log\n",
      "file_4.log\n",
      "folder_1\\file_1.log\n",
      "folder_1\\file_2.log\n",
      "folder_1\\file_3.log\n",
      "folder_1\\file_4.log\n",
      "folder_2\\file_1.log\n",
      "folder_2\\file_2.log\n",
      "folder_2\\file_3.log\n",
      "folder_2\\file_4.log\n",
      "folder_3\\file_1.log\n",
      "folder_3\\file_2.log\n",
      "folder_3\\file_3.log\n",
      "folder_3\\file_4.log\n",
      "-------------------\n"
     ]
    }
   ],
   "source": [
    "# выводим список файлов TXT и отдельно список файлов log с указанием относительного пути к файлам.\n",
    "def printFileByExt(ext):\n",
    "    assert len(ext) > 0\n",
    "    print(root_dir, '\\n{}'.format('-'*len(root_dir)))\n",
    "    for f in Path(root_dir).glob('**/*.' + ext):\n",
    "        if f.is_file():\n",
    "            last = Path(*f.parts[1:])\n",
    "            print(last)\n",
    "    print('{}'.format('-'*len(str(last))))\n",
    "    \n",
    "printFileByExt('txt')\n",
    "printFileByExt('log')"
   ]
  },
  {
   "cell_type": "code",
   "execution_count": null,
   "id": "e16dafa2-8b34-4620-b71f-59af2d190c89",
   "metadata": {},
   "outputs": [],
   "source": []
  },
  {
   "cell_type": "code",
   "execution_count": 13,
   "id": "a141eab5-964c-4d09-9794-7224ead5bb2f",
   "metadata": {},
   "outputs": [],
   "source": [
    "# по завершении - удаляем тестовую структуру папок\n",
    "if os.path.exists(root_dir):\n",
    "    shutil.rmtree(root_dir)"
   ]
  },
  {
   "cell_type": "code",
   "execution_count": null,
   "id": "fac60318-225a-40e7-a3c7-43a1faaf6bf0",
   "metadata": {},
   "outputs": [],
   "source": []
  }
 ],
 "metadata": {
  "kernelspec": {
   "display_name": "Python 3 (ipykernel)",
   "language": "python",
   "name": "python3"
  },
  "language_info": {
   "codemirror_mode": {
    "name": "ipython",
    "version": 3
   },
   "file_extension": ".py",
   "mimetype": "text/x-python",
   "name": "python",
   "nbconvert_exporter": "python",
   "pygments_lexer": "ipython3",
   "version": "3.11.7"
  }
 },
 "nbformat": 4,
 "nbformat_minor": 5
}
