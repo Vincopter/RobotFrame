{
 "cells": [
  {
   "cell_type": "markdown",
   "id": "da5ecf30-fe28-4be0-b970-5ab4ba20a92e",
   "metadata": {},
   "source": [
    "### Расчеты параметров модели для эмуляции \n"
   ]
  },
  {
   "cell_type": "code",
   "execution_count": 2,
   "id": "b904fad7-ec6f-48ec-bfca-03a720a49ddd",
   "metadata": {},
   "outputs": [],
   "source": [
    "import os, time, math, pathlib, bs4\n",
    "from bs4 import BeautifulSoup\n",
    "from sympy import sympify, Symbol, symbols, Matrix, init_printing, pretty\n",
    "init_printing()"
   ]
  },
  {
   "cell_type": "code",
   "execution_count": 3,
   "id": "6fa8e130-1cba-4026-924f-0ca3aab8c786",
   "metadata": {},
   "outputs": [],
   "source": [
    "BOX = 'box'\n",
    "SPHERE = 'sphere';\n",
    "CYLINDER = 'cylinder'\n",
    "\n",
    "class Geometry:\n",
    "    def __init__(self, trait):\n",
    "        self.__trait = trait\n",
    "    def checkNodeType(self, node):\n",
    "        if not isinstance(node, bs4.element.Tag):\n",
    "            raise Exception('Node type not applicable')\n",
    "    def getTrait(self):\n",
    "        return self.__trait\n",
    "    def isTrait(self, trait: str):\n",
    "        return self.__trait == trait\n",
    "\n",
    "class GeometryBox(Geometry):\n",
    "    def __init__(self, node):\n",
    "        super().__init__(BOX)\n",
    "        super().checkNodeType(node)\n",
    "        sizes = node['size'].split(\" \")\n",
    "        if len(sizes) != 3:\n",
    "            Exception(\"Invalid size array for geometry box\")\n",
    "        self.__width = float(sizes[0])\n",
    "        self.__depth = float(sizes[1])\n",
    "        self.__height = float(sizes[2])     \n",
    "    def getWidth(self):\n",
    "        return float(self.__width)\n",
    "    def getHeight(self):\n",
    "        return float(self.__height)\n",
    "    def getDepth(self):\n",
    "        return float(self.__depth)\n",
    "    def __str__(self):\n",
    "        return \"w:{:.2f}/d:{:.2f}/h:{:.2f}\".format(self.getWidth(), self.getDepth(), self.getHeight())\n",
    "\n",
    "class GeometrySphere(Geometry):\n",
    "    def __init__(self, node):\n",
    "        super().__init__(SPHERE)\n",
    "        super().checkNodeType(node)\n",
    "        self.__radius = float(node['radius'])\n",
    "    def getRadius(self):\n",
    "        return self.__radius\n",
    "    def __str__(self):\n",
    "        return \"r:{:.2f}\".format(self.getRadius())\n",
    "\n",
    "class GeometryCylinder(Geometry):\n",
    "    def __init__(self, node):\n",
    "        super().__init__(CYLINDER)\n",
    "        super().checkNodeType(node)\n",
    "        self.__length = float(node['length'])\n",
    "        self.__radius = float(node['radius'])\n",
    "    def getLength(self):\n",
    "        return float(self.__length)\n",
    "    def getRadius(self):\n",
    "        return float(self.__radius)\n",
    "    def __str__(self):\n",
    "        return \"l:{:.2f}/r:{:.2f}\".format(self.getLength(), self.getRadius())\n",
    "\n",
    "class Inertial:\n",
    "    __mass = xx = xy = xz = yy = yz = zz = .0\n",
    "    def __init__(self, inertial):\n",
    "        if not isinstance(inertial, bs4.element.Tag):\n",
    "            raise Exception('Type of inertial node not applicable')\n",
    "        if inertial.mass:\n",
    "            self.__mass = float(inertial.mass['value'])\n",
    "        if not inertial.inertia is None:\n",
    "            self.xx = float(inertial.inertia['ixx'])\n",
    "            self.xy = float(inertial.inertia['ixy'])\n",
    "            self.xz = float(inertial.inertia['ixz'])\n",
    "            self.yy = float(inertial.inertia['iyy'])\n",
    "            self.yz = float(inertial.inertia['iyz'])\n",
    "            self.zz = float(inertial.inertia['izz'])\n",
    "    def getMass(self):\n",
    "        return float(self.__mass)\n",
    "    def getData(self):\n",
    "        return [float(self.xx), float(self.xy), float(self.xz),\n",
    "                float(self.yy), float(self.yz), float(self.zz)]\n",
    "    def __str__(self):\n",
    "        return \"m:{:.4f}/inertials:[{}]\".format(self.getMass(), str(self.getData())[1:-1])"
   ]
  },
  {
   "cell_type": "code",
   "execution_count": 13,
   "id": "7fe7a724-542b-4cd0-a0d7-141084240c12",
   "metadata": {},
   "outputs": [
    {
     "name": "stdout",
     "output_type": "stream",
     "text": [
      "Диаметр колес: 0.185 (в метрах)\n",
      "Расстояние между левым и правым колесами: 0.485 (в метрах)\n",
      "\n",
      "Общий вес изделия: 25.5 кг.\n",
      "Общая высота изделия: 0.48 метра.\n",
      "Общая ширина изделия: 0.54 метра.\n",
      "Общая длина изделия: 0.67 метра. Длина с манипуляторами: 0.72 метра.\n"
     ]
    }
   ],
   "source": [
    "dirPath = os.path.dirname(os.getcwd())\n",
    "xmlRelConfigFilePath = \"robot_frame/description/robot_description.xml\"\n",
    "xmlConfigFullFilePath = os.path.join(dirPath, xmlRelConfigFilePath)\n",
    "\n",
    "if not pathlib.Path(xmlConfigFullFilePath).is_file():\n",
    "    raise Exception(f\"Unable to find config file ['{xmlConfigFullFilePath}']\")\n",
    "\n",
    "with open(xmlConfigFullFilePath, 'r') as fl:\n",
    "    data = fl.read()\n",
    "\n",
    "rootData = BeautifulSoup(data, \"xml\")\n",
    "\n",
    "geometries = dict()\n",
    "inertials = dict()\n",
    "\n",
    "for link in rootData.find_all('link'):\n",
    "    visual = link.visual\n",
    "    inertial = link.inertial\n",
    "    linkName = link['name']\n",
    "    if not visual is None:\n",
    "        if not visual.geometry.sphere is None:\n",
    "            sphere = visual.geometry.sphere\n",
    "            geometries[linkName] = GeometrySphere(sphere)\n",
    "        elif not visual.geometry.cylinder is None:\n",
    "            cylinder = visual.geometry.cylinder\n",
    "            geometries[linkName] = GeometryCylinder(cylinder)\n",
    "        elif not visual.geometry.box is None:\n",
    "            box = visual.geometry.box\n",
    "            geometries[linkName] = GeometryBox(box)\n",
    "    if not inertial is None:\n",
    "        inertials[linkName] = Inertial(inertial)\n",
    "#\n",
    "# Расчет данных для конфигурирования контроллера дифференциального привода\n",
    "#\n",
    "wheelDiameter = geometries['front_left_wheel'].getRadius()*2\n",
    "wheelScrewLen = geometries['front_left_wheel'].getLength()/8\n",
    "wheelSeparation = geometries['front_axle'].getLength() - geometries['front_left_wheel'].getLength()/2 - wheelScrewLen \n",
    "#\n",
    "# Расчет общей массы изделия\n",
    "#\n",
    "totalMass = float(0)\n",
    "for link in rootData.find_all('link'):\n",
    "    inertial = link.inertial\n",
    "    if not inertial is None:\n",
    "        mass = inertial.mass\n",
    "        if not mass is None:\n",
    "            totalMass += float(mass['value'])\n",
    "#\n",
    "# Расчет фактической длины, ширины и высоты\n",
    "#\n",
    "totalHeight = \\\n",
    "    geometries['front_left_wheel'].getRadius() + \\\n",
    "    geometries['front_axle'].getRadius()*2 + \\\n",
    "    geometries['chassis'].getHeight() + \\\n",
    "    geometries['box_panel_back'].getHeight() + \\\n",
    "    geometries['hinge_cover'].getRadius()\n",
    "\n",
    "totalWidth = \\\n",
    "    geometries['back_left_wheel'].getLength() + \\\n",
    "    geometries['back_right_wheel'].getLength() + \\\n",
    "    geometries['box_panel_back'].getWidth() + \\\n",
    "    geometries['box_gripper_holder_left'].getLength() + \\\n",
    "    geometries['manipulator_1st_left'].getLength() + \\\n",
    "    geometries['manipulator_1st_left'].getRadius()\n",
    "\n",
    "totalLength = \\\n",
    "    geometries['chassis'].getWidth() + \\\n",
    "    geometries['box_ladle_front'].getDepth()/2 + \\\n",
    "    geometries['box_bracket_holder_left'].getDepth() + \\\n",
    "    (geometries['back_left_wheel'].getRadius() - round(geometries['chassis'].getWidth()/8, 3))*2\n",
    "\n",
    "totalLengthWithManip = \\\n",
    "    geometries['box_panel_left'].getDepth()/2 + \\\n",
    "    geometries['box_panel_back'].getDepth() + \\\n",
    "    geometries['back_left_wheel'].getRadius() - round(geometries['chassis'].getWidth()/8, 3) + \\\n",
    "    geometries['articulation_1st_left'].getRadius() + \\\n",
    "    geometries['manipulator_2nd_left'].getLength() + \\\n",
    "    geometries['manipulator_3rd_left'].getLength() + \\\n",
    "    geometries['articulation_end_effector_left'].getRadius() + \\\n",
    "    0.06 # gripper lenght = 0.06\n",
    "\n",
    "print(\"Диаметр колес: {:.3f} (в метрах)\".format(wheelDiameter))\n",
    "print(\"Расстояние между левым и правым колесами: {:.3f} (в метрах)\".format(wheelSeparation))  \n",
    "print(\"\\nОбщий вес изделия: {:.1f} кг.\".format(totalMass))\n",
    "print(\"Общая высота изделия: {:.2f} метра.\".format(totalHeight))\n",
    "print(\"Общая ширина изделия: {:.2f} метра.\".format(totalWidth))\n",
    "print(\"Общая длина изделия: {:.2f} метра. Длина с манипуляторами: {:.2f} метра.\".format(totalLength, totalLengthWithManip))"
   ]
  },
  {
   "cell_type": "code",
   "execution_count": null,
   "id": "03886d3f-875e-4d93-8d8e-7285fa492df7",
   "metadata": {},
   "outputs": [],
   "source": []
  },
  {
   "cell_type": "markdown",
   "id": "0d0b535c-68c5-4470-88c9-6df6d8832f91",
   "metadata": {},
   "source": [
    "#### Проверка параметров модули изделия"
   ]
  },
  {
   "cell_type": "code",
   "execution_count": 5,
   "id": "ad57bb31-3494-44f2-b74f-82a29d85a70c",
   "metadata": {},
   "outputs": [],
   "source": [
    "# символы/параметры описывающие модель\n",
    "mass = symbols('m', real=True)\n",
    "height = symbols('h', real=True)\n",
    "width = symbols('w', real=True)\n",
    "depth = symbols('d', real=True)\n",
    "radius = symbols('r', real=True)\n",
    "length = symbols('l', real=True)"
   ]
  },
  {
   "cell_type": "code",
   "execution_count": 6,
   "id": "e16dafa2-8b34-4620-b71f-59af2d190c89",
   "metadata": {},
   "outputs": [],
   "source": [
    "# Тензор инерции для объека кубической формы\n",
    "ixx = sympify(\"(1/12)*m*(d**2 + h**2)\")\n",
    "iyy = sympify(\"(1/12)*m*(w**2 + h**2)\")\n",
    "izz = sympify(\"(1/12)*m*(w**2 + d**2)\")\n",
    "ixy = ixz = iyz = iyx = izy = izx = 0.0\n",
    "\n",
    "CT = Matrix([\n",
    "    [ixx, ixy, ixz], \n",
    "    [iyx, iyy, iyz], \n",
    "    [izx, izy, izz], \n",
    "])\n",
    "\n",
    "# Тензор инерции для объекта цилиндр\n",
    "ixx = sympify(\"(1/12)*m*(3*(r**2) + l**2)\")\n",
    "iyy = sympify(\"(1/12)*m*(3*(r**2) + l**2)\")\n",
    "izz = sympify(\"(1/2)*m*(r**2)\")\n",
    "ixy = ixz = iyz = iyx = izy = izx = 0.0\n",
    "\n",
    "TT = Matrix([\n",
    "    [ixx, ixy, ixz], \n",
    "    [iyx, iyy, iyz], \n",
    "    [izx, izy, izz], \n",
    "])\n",
    "\n",
    "# Тензор инерции для объекта сферической формы\n",
    "ixx = iyy = izz = sympify(\"(2/5)*m*(r**2)\")\n",
    "ixy = ixz = iyz = iyx = izy = izx = 0.0\n",
    "\n",
    "ST = Matrix([\n",
    "    [ixx, ixy, ixz], \n",
    "    [iyx, iyy, iyz], \n",
    "    [izx, izy, izz], \n",
    "])"
   ]
  },
  {
   "cell_type": "code",
   "execution_count": 7,
   "id": "f1da6073-406d-4ade-8d3b-7f6551250386",
   "metadata": {},
   "outputs": [
    {
     "name": "stdout",
     "output_type": "stream",
     "text": [
      "Формула рассчета тензора для кубической формы\n"
     ]
    },
    {
     "data": {
      "text/latex": [
       "$\\displaystyle \\left[\\begin{matrix}\\frac{m \\left(d^{2} + h^{2}\\right)}{12} & 0 & 0\\\\0 & \\frac{m \\left(h^{2} + w^{2}\\right)}{12} & 0\\\\0 & 0 & \\frac{m \\left(d^{2} + w^{2}\\right)}{12}\\end{matrix}\\right]$"
      ],
      "text/plain": [
       "⎡  ⎛ 2    2⎞                          ⎤\n",
       "⎢m⋅⎝d  + h ⎠                          ⎥\n",
       "⎢───────────       0            0     ⎥\n",
       "⎢     12                              ⎥\n",
       "⎢                                     ⎥\n",
       "⎢               ⎛ 2    2⎞             ⎥\n",
       "⎢             m⋅⎝h  + w ⎠             ⎥\n",
       "⎢     0       ───────────       0     ⎥\n",
       "⎢                  12                 ⎥\n",
       "⎢                                     ⎥\n",
       "⎢                            ⎛ 2    2⎞⎥\n",
       "⎢                          m⋅⎝d  + w ⎠⎥\n",
       "⎢     0            0       ───────────⎥\n",
       "⎣                               12    ⎦"
      ]
     },
     "execution_count": 7,
     "metadata": {},
     "output_type": "execute_result"
    }
   ],
   "source": [
    "print(\"Формула рассчета тензора для кубической формы\")\n",
    "CT"
   ]
  },
  {
   "cell_type": "code",
   "execution_count": 8,
   "id": "bc1d3558-f6ad-44c3-a668-be629baac4a2",
   "metadata": {},
   "outputs": [
    {
     "name": "stdout",
     "output_type": "stream",
     "text": [
      "Формула рассчета тензора для цилиндрической формы\n"
     ]
    },
    {
     "data": {
      "text/latex": [
       "$\\displaystyle \\left[\\begin{matrix}\\frac{m \\left(l^{2} + 3 r^{2}\\right)}{12} & 0 & 0\\\\0 & \\frac{m \\left(l^{2} + 3 r^{2}\\right)}{12} & 0\\\\0 & 0 & \\frac{m r^{2}}{2}\\end{matrix}\\right]$"
      ],
      "text/plain": [
       "⎡  ⎛ 2      2⎞                     ⎤\n",
       "⎢m⋅⎝l  + 3⋅r ⎠                     ⎥\n",
       "⎢─────────────        0         0  ⎥\n",
       "⎢      12                          ⎥\n",
       "⎢                                  ⎥\n",
       "⎢                 ⎛ 2      2⎞      ⎥\n",
       "⎢               m⋅⎝l  + 3⋅r ⎠      ⎥\n",
       "⎢      0        ─────────────   0  ⎥\n",
       "⎢                     12           ⎥\n",
       "⎢                                  ⎥\n",
       "⎢                                 2⎥\n",
       "⎢                              m⋅r ⎥\n",
       "⎢      0              0        ────⎥\n",
       "⎣                               2  ⎦"
      ]
     },
     "execution_count": 8,
     "metadata": {},
     "output_type": "execute_result"
    }
   ],
   "source": [
    "print(\"Формула рассчета тензора для цилиндрической формы\")\n",
    "TT"
   ]
  },
  {
   "cell_type": "code",
   "execution_count": 9,
   "id": "d5619d77-e8d1-4c94-bbd8-02b79987baeb",
   "metadata": {},
   "outputs": [
    {
     "name": "stdout",
     "output_type": "stream",
     "text": [
      "Формула рассчета тензора для сферической формы\n"
     ]
    },
    {
     "data": {
      "text/latex": [
       "$\\displaystyle \\left[\\begin{matrix}\\frac{2 m r^{2}}{5} & 0 & 0\\\\0 & \\frac{2 m r^{2}}{5} & 0\\\\0 & 0 & \\frac{2 m r^{2}}{5}\\end{matrix}\\right]$"
      ],
      "text/plain": [
       "⎡     2                ⎤\n",
       "⎢2⋅m⋅r                 ⎥\n",
       "⎢──────    0       0   ⎥\n",
       "⎢  5                   ⎥\n",
       "⎢                      ⎥\n",
       "⎢             2        ⎥\n",
       "⎢        2⋅m⋅r         ⎥\n",
       "⎢  0     ──────    0   ⎥\n",
       "⎢          5           ⎥\n",
       "⎢                      ⎥\n",
       "⎢                     2⎥\n",
       "⎢                2⋅m⋅r ⎥\n",
       "⎢  0       0     ──────⎥\n",
       "⎣                  5   ⎦"
      ]
     },
     "execution_count": 9,
     "metadata": {},
     "output_type": "execute_result"
    }
   ],
   "source": [
    "print(\"Формула рассчета тензора для сферической формы\")\n",
    "ST"
   ]
  },
  {
   "cell_type": "markdown",
   "id": "8e16ba7a-e565-4029-a50a-e3541a925cf9",
   "metadata": {},
   "source": [
    "##### Проверка расчет инерциальных параметров по физическим данным модели "
   ]
  },
  {
   "cell_type": "code",
   "execution_count": 10,
   "id": "e05dab35-6bbe-4122-90a8-bdda67ee5c06",
   "metadata": {},
   "outputs": [
    {
     "name": "stdout",
     "output_type": "stream",
     "text": [
      "Данные инерции из модели для узла 'articulation_end_effector_left': ixx=0.000013, iyy=0.000013, izz=0.000013.\n",
      "Рассчитанные данные: ixx=0.000013, iyy=0.000013, izz=0.000013, det=0.000000000000.\n",
      "Данные инерции из модели для узла 'articulation_end_effector_right': ixx=0.000013, iyy=0.000013, izz=0.000013.\n",
      "Рассчитанные данные: ixx=0.000013, iyy=0.000013, izz=0.000013, det=0.000000000000.\n"
     ]
    },
    {
     "data": {
      "text/latex": [
       "$\\displaystyle \\left[\\begin{matrix}1.30666666666667 \\cdot 10^{-5} & 0 & 0\\\\0 & 1.30666666666667 \\cdot 10^{-5} & 0\\\\0 & 0 & 1.30666666666667 \\cdot 10^{-5}\\end{matrix}\\right]$"
      ],
      "text/plain": [
       "⎡1.30666666666667e-5           0                    0         ⎤\n",
       "⎢                                                             ⎥\n",
       "⎢         0           1.30666666666667e-5           0         ⎥\n",
       "⎢                                                             ⎥\n",
       "⎣         0                    0           1.30666666666667e-5⎦"
      ]
     },
     "execution_count": 10,
     "metadata": {},
     "output_type": "execute_result"
    }
   ],
   "source": [
    "# Концевой эффектор манипулятора - левый/правый (articulation_end_effector_left/articulation_end_effector_right)\n",
    "linksName = ['articulation_end_effector_left', 'articulation_end_effector_right']\n",
    "for linkName in linksName:\n",
    "    inertia = inertials[linkName]\n",
    "    values = { 'm': inertia.getMass(), 'r': geometries[linkName].getRadius() }\n",
    "    ixx.subs(values)\n",
    "    iyy.subs(values)\n",
    "    izz.subs(values)\n",
    "    STR = ST.subs(values)\n",
    "    \n",
    "    print(\"Данные инерции из модели для узла '{}': ixx={:.6f}, iyy={:.6f}, izz={:.6f}.\".format(\n",
    "            linkName,\n",
    "            inertia.xx,\n",
    "            inertia.yy,\n",
    "            inertia.zz,\n",
    "    ))\n",
    "    \n",
    "    print(\"Рассчитанные данные: ixx={:.6f}, iyy={:.6f}, izz={:.6f}, det={:.12f}.\".format(\n",
    "        STR[0,0],\n",
    "        STR[1,1],\n",
    "        STR[2,2],\n",
    "        STR.det()))\n",
    "STR"
   ]
  },
  {
   "cell_type": "code",
   "execution_count": 11,
   "id": "fac60318-225a-40e7-a3c7-43a1faaf6bf0",
   "metadata": {},
   "outputs": [
    {
     "name": "stdout",
     "output_type": "stream",
     "text": [
      "Данные инерции из модели для узла 'box_cover': ixx=0.007449, iyy=0.003464, izz=0.010830.\n",
      "Рассчитанные данные: ixx=0.003464, iyy=0.007449, izz=0.010830, det=0.000000279460.\n"
     ]
    },
    {
     "data": {
      "text/latex": [
       "$\\displaystyle \\left[\\begin{matrix}0.00346412967021075 & 0 & 0\\\\0 & 0.00744907407407407 & 0\\\\0 & 0 & 0.0108298704109515\\end{matrix}\\right]$"
      ],
      "text/plain": [
       "⎡0.00346412967021075           0                   0         ⎤\n",
       "⎢                                                            ⎥\n",
       "⎢         0           0.00744907407407407          0         ⎥\n",
       "⎢                                                            ⎥\n",
       "⎣         0                    0           0.0108298704109515⎦"
      ]
     },
     "execution_count": 11,
     "metadata": {},
     "output_type": "execute_result"
    }
   ],
   "source": [
    "# Крышка люка (box_cover)\n",
    "linkName = 'box_cover'\n",
    "box_cover = geometries[linkName]\n",
    "height = box_cover.getHeight() # meters\n",
    "width = box_cover.getWidth()  # meters\n",
    "depth = box_cover.getDepth()  # meters\n",
    "mass = inertials[linkName].getMass()  # kg\n",
    "\n",
    "values = { 'm': mass, 'h': height, 'w': width, 'd': depth }\n",
    "ixx.subs(values)\n",
    "iyy.subs(values)\n",
    "izz.subs(values)\n",
    "CTR = CT.subs(values)\n",
    "\n",
    "inertia = inertials[linkName]\n",
    "print(\"Данные инерции из модели для узла '{}': ixx={:.6f}, iyy={:.6f}, izz={:.6f}.\".format(\n",
    "        linkName,\n",
    "        inertia.xx,\n",
    "        inertia.yy,\n",
    "        inertia.zz,\n",
    "))\n",
    "\n",
    "print(\"Рассчитанные данные: ixx={:.6f}, iyy={:.6f}, izz={:.6f}, det={:.12f}.\".format(\n",
    "    CTR[0,0],\n",
    "    CTR[1,1],\n",
    "    CTR[2,2],\n",
    "    CTR.det()))\n",
    "CTR"
   ]
  },
  {
   "cell_type": "code",
   "execution_count": 12,
   "id": "930026bf-93a0-403e-8534-8d996d22c777",
   "metadata": {},
   "outputs": [
    {
     "name": "stdout",
     "output_type": "stream",
     "text": [
      "Данные инерции из модели для узла 'hinge_cover': ixx=0.002687, iyy=0.002687, izz=0.000040.\n",
      "Рассчитанные данные: ixx=0.002687, iyy=0.002687, izz=0.000040, det=0.000000000289.\n"
     ]
    },
    {
     "data": {
      "text/latex": [
       "$\\displaystyle \\left[\\begin{matrix}0.00268666666666667 & 0 & 0\\\\0 & 0.00268666666666667 & 0\\\\0 & 0 & 4.0 \\cdot 10^{-5}\\end{matrix}\\right]$"
      ],
      "text/plain": [
       "⎡0.00268666666666667           0             0   ⎤\n",
       "⎢                                                ⎥\n",
       "⎢         0           0.00268666666666667    0   ⎥\n",
       "⎢                                                ⎥\n",
       "⎣         0                    0           4.0e-5⎦"
      ]
     },
     "execution_count": 12,
     "metadata": {},
     "output_type": "execute_result"
    }
   ],
   "source": [
    "# Шарнир крышки люка (hinge_cover)\n",
    "linkName = 'hinge_cover'\n",
    "mass = inertials[linkName].getMass() # kg\n",
    "radius = geometries[linkName].getRadius() # meters\n",
    "length = geometries[linkName].getLength() # meters\n",
    "values = { 'm': mass, 'r': radius, 'l': length }\n",
    "\n",
    "ixx.subs(values)\n",
    "iyy.subs(values)\n",
    "izz.subs(values)\n",
    "CTT = TT.subs(values)\n",
    "\n",
    "inertia = inertials[linkName]\n",
    "print(\"Данные инерции из модели для узла '{}': ixx={:.6f}, iyy={:.6f}, izz={:.6f}.\".format(\n",
    "        linkName,\n",
    "        inertia.xx,\n",
    "        inertia.yy,\n",
    "        inertia.zz,\n",
    "))\n",
    "\n",
    "print(\"Рассчитанные данные: ixx={:.6f}, iyy={:.6f}, izz={:.6f}, det={:.12f}.\".format(\n",
    "    CTT[0,0],\n",
    "    CTT[1,1],\n",
    "    CTT[2,2],\n",
    "    CTT.det()))\n",
    "CTT"
   ]
  },
  {
   "cell_type": "code",
   "execution_count": null,
   "id": "68a3bc40-dab5-480e-8ba5-efbe2500d9da",
   "metadata": {},
   "outputs": [],
   "source": []
  },
  {
   "cell_type": "code",
   "execution_count": null,
   "id": "e19b6170-96e8-4412-9e55-69a00649c672",
   "metadata": {},
   "outputs": [],
   "source": []
  }
 ],
 "metadata": {
  "kernelspec": {
   "display_name": "Python 3 (ipykernel)",
   "language": "python",
   "name": "python3"
  },
  "language_info": {
   "codemirror_mode": {
    "name": "ipython",
    "version": 3
   },
   "file_extension": ".py",
   "mimetype": "text/x-python",
   "name": "python",
   "nbconvert_exporter": "python",
   "pygments_lexer": "ipython3",
   "version": "3.11.7"
  }
 },
 "nbformat": 4,
 "nbformat_minor": 5
}
