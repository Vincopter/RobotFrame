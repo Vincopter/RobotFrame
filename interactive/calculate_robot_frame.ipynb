{
 "cells": [
  {
   "cell_type": "markdown",
   "id": "da5ecf30-fe28-4be0-b970-5ab4ba20a92e",
   "metadata": {},
   "source": [
    "### Расчеты параметров робота для эмуляции \n"
   ]
  },
  {
   "cell_type": "markdown",
   "id": "248a2ce3-9e6e-43f4-bfda-871d219388ff",
   "metadata": {},
   "source": [
    "Расчет инерциальных параметров робота (Inertia tensor)"
   ]
  },
  {
   "cell_type": "code",
   "execution_count": 1,
   "id": "b904fad7-ec6f-48ec-bfca-03a720a49ddd",
   "metadata": {},
   "outputs": [],
   "source": [
    "from sympy import sympify, Symbol, symbols, Matrix, init_printing, pretty\n",
    "init_printing()"
   ]
  },
  {
   "cell_type": "code",
   "execution_count": 2,
   "id": "ad57bb31-3494-44f2-b74f-82a29d85a70c",
   "metadata": {},
   "outputs": [],
   "source": [
    "# символы/параметры описывающие модель\n",
    "mass = symbols('m', real=True)\n",
    "height = symbols('h', real=True)\n",
    "width = symbols('w', real=True)\n",
    "depth = symbols('d', real=True)\n",
    "radius = symbols('r', real=True)"
   ]
  },
  {
   "cell_type": "code",
   "execution_count": 3,
   "id": "e16dafa2-8b34-4620-b71f-59af2d190c89",
   "metadata": {},
   "outputs": [
    {
     "data": {
      "text/latex": [
       "$\\displaystyle \\left[\\begin{matrix}\\frac{m \\left(d^{2} + h^{2}\\right)}{12} & 0 & 0\\\\0 & \\frac{m \\left(h^{2} + w^{2}\\right)}{12} & 0\\\\0 & 0 & \\frac{m \\left(d^{2} + w^{2}\\right)}{12}\\end{matrix}\\right]$"
      ],
      "text/plain": [
       "⎡  ⎛ 2    2⎞                          ⎤\n",
       "⎢m⋅⎝d  + h ⎠                          ⎥\n",
       "⎢───────────       0            0     ⎥\n",
       "⎢     12                              ⎥\n",
       "⎢                                     ⎥\n",
       "⎢               ⎛ 2    2⎞             ⎥\n",
       "⎢             m⋅⎝h  + w ⎠             ⎥\n",
       "⎢     0       ───────────       0     ⎥\n",
       "⎢                  12                 ⎥\n",
       "⎢                                     ⎥\n",
       "⎢                            ⎛ 2    2⎞⎥\n",
       "⎢                          m⋅⎝d  + w ⎠⎥\n",
       "⎢     0            0       ───────────⎥\n",
       "⎣                               12    ⎦"
      ]
     },
     "execution_count": 3,
     "metadata": {},
     "output_type": "execute_result"
    }
   ],
   "source": [
    "# Тензор инерции для объека кубической формы\n",
    "ixx = sympify(\"1/12*m*(h**2 + d**2)\")\n",
    "iyy = sympify(\"1/12*m*(w**2 + h**2)\")\n",
    "izz = sympify(\"1/12*m*(w**2 + d**2)\")\n",
    "ixy = ixz = iyz = iyx = izy = izx = 0.0\n",
    "\n",
    "CT = Matrix([\n",
    "    [ixx, ixy, ixz], \n",
    "    [iyx, iyy, iyz], \n",
    "    [izx, izy, izz], \n",
    "])\n",
    "CT"
   ]
  },
  {
   "cell_type": "code",
   "execution_count": 6,
   "id": "fac60318-225a-40e7-a3c7-43a1faaf6bf0",
   "metadata": {},
   "outputs": [
    {
     "name": "stdout",
     "output_type": "stream",
     "text": [
      "Момент инерции (кубоида):  151.703703703704\n"
     ]
    }
   ],
   "source": [
    "# Расчет определителя по физическим данным модели \n",
    "mass = 50.0  # kg\n",
    "height = 0.8 # meters\n",
    "width = 0.8  # meters\n",
    "depth = 0.8  # meters\n",
    "\n",
    "values = { 'm': mass, 'h': height, 'w': width, 'd': depth }\n",
    "ixx.subs(values)\n",
    "iyy.subs(values)\n",
    "izz.subs(values)\n",
    "CTR = CT.subs(values)\n",
    "\n",
    "print(\"Момент инерции (кубоида): \", CTR.det())"
   ]
  },
  {
   "cell_type": "code",
   "execution_count": null,
   "id": "1e591141-22a1-4cb2-9664-fd17bc713f27",
   "metadata": {},
   "outputs": [],
   "source": []
  },
  {
   "cell_type": "code",
   "execution_count": 62,
   "id": "0cea467c-d7ca-47db-9401-5ea57d9bbd3e",
   "metadata": {},
   "outputs": [
    {
     "data": {
      "text/latex": [
       "$\\displaystyle \\left[\\begin{matrix}\\frac{2 m r^{2}}{5} & 0 & 0\\\\0 & \\frac{2 m r^{2}}{5} & 0\\\\0 & 0 & \\frac{2 m r^{2}}{5}\\end{matrix}\\right]$"
      ],
      "text/plain": [
       "⎡     2                ⎤\n",
       "⎢2⋅m⋅r                 ⎥\n",
       "⎢──────    0       0   ⎥\n",
       "⎢  5                   ⎥\n",
       "⎢                      ⎥\n",
       "⎢             2        ⎥\n",
       "⎢        2⋅m⋅r         ⎥\n",
       "⎢  0     ──────    0   ⎥\n",
       "⎢          5           ⎥\n",
       "⎢                      ⎥\n",
       "⎢                     2⎥\n",
       "⎢                2⋅m⋅r ⎥\n",
       "⎢  0       0     ──────⎥\n",
       "⎣                  5   ⎦"
      ]
     },
     "execution_count": 62,
     "metadata": {},
     "output_type": "execute_result"
    }
   ],
   "source": [
    "# Тензор инерции для объекта сферической формы\n",
    "ixx = iyy = izz = sympify(\"2/5*m*r**2\")\n",
    "ixy = ixz = iyz = iyx = izy = izx = 0.0\n",
    "\n",
    "ST = Matrix([\n",
    "    [ixx, ixy, ixz], \n",
    "    [iyx, iyy, iyz], \n",
    "    [izx, izy, izz], \n",
    "])\n",
    "ST"
   ]
  },
  {
   "cell_type": "code",
   "execution_count": 65,
   "id": "0512b507-1a92-4344-8899-9d1d79278481",
   "metadata": {},
   "outputs": [
    {
     "name": "stdout",
     "output_type": "stream",
     "text": [
      "Момент инерции (сфера):  1.40492800000000e-6\n"
     ]
    }
   ],
   "source": [
    "# Расчет определителя по физическим данным модели \n",
    "mass = 0.7   # kg\n",
    "radius = 0.2 # meters\n",
    "\n",
    "values = { 'm': mass, 'r': radius }\n",
    "ixx.subs(values)\n",
    "iyy.subs(values)\n",
    "izz.subs(values)\n",
    "\n",
    "STR = ST.subs(values)\n",
    "\n",
    "print(\"Момент инерции (сфера): \", STR.det())"
   ]
  },
  {
   "cell_type": "code",
   "execution_count": 1,
   "id": "9ebc7ca5-475b-41e4-97ce-e80ef6968240",
   "metadata": {},
   "outputs": [
    {
     "data": {
      "text/plain": [
       "[0.5, 0.5, 0.5]"
      ]
     },
     "execution_count": 1,
     "metadata": {},
     "output_type": "execute_result"
    }
   ],
   "source": [
    "[0.5]*3"
   ]
  },
  {
   "cell_type": "code",
   "execution_count": null,
   "id": "68a3bc40-dab5-480e-8ba5-efbe2500d9da",
   "metadata": {},
   "outputs": [],
   "source": []
  }
 ],
 "metadata": {
  "kernelspec": {
   "display_name": "Python 3 (ipykernel)",
   "language": "python",
   "name": "python3"
  },
  "language_info": {
   "codemirror_mode": {
    "name": "ipython",
    "version": 3
   },
   "file_extension": ".py",
   "mimetype": "text/x-python",
   "name": "python",
   "nbconvert_exporter": "python",
   "pygments_lexer": "ipython3",
   "version": "3.11.7"
  }
 },
 "nbformat": 4,
 "nbformat_minor": 5
}
